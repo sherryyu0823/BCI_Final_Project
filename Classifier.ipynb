{
 "cells": [
  {
   "cell_type": "code",
   "execution_count": 7,
   "metadata": {},
   "outputs": [],
   "source": [
    "import pandas as pd\n",
    "import numpy as np\n",
    "import matplotlib.pyplot as plt\n",
    "%matplotlib inline\n",
    "import seaborn as sns\n",
    "sns.set()\n",
    "from tqdm import tqdm\n",
    "import pickle\n",
    "import os"
   ]
  },
  {
   "cell_type": "markdown",
   "metadata": {},
   "source": [
    "# Data Preprocessing"
   ]
  },
  {
   "cell_type": "code",
   "execution_count": 8,
   "metadata": {},
   "outputs": [],
   "source": [
    "# Import the dataset\n",
    "def get_data():\n",
    "    \"\"\"\n",
    "    Load SEED data from .npz file.\n",
    "    \n",
    "    :return: train data, test data, train labels, test labels.\n",
    "    \"\"\"\n",
    "    feature_1s_dir = './EEG-DE-feature/eeg_used_1s'\n",
    "    file_1s_list = os.listdir(feature_1s_dir)\n",
    "    file_1s_list.sort()\n",
    "    \n",
    "    all_train_data = {key: [] for key in ['delta', 'theta', 'alpha', 'beta', 'gamma']}\n",
    "    all_test_data = {key: [] for key in ['delta', 'theta', 'alpha', 'beta', 'gamma']}\n",
    "    all_train_labels = []\n",
    "    all_test_labels = []\n",
    "    \n",
    "    for item in tqdm(file_1s_list, desc=\"Loading data\"):\n",
    "        npz_data = np.load(os.path.join(feature_1s_dir, item))\n",
    "        \n",
    "        # Extract train and test data\n",
    "        train_data = pickle.loads(npz_data['train_data'])\n",
    "        test_data = pickle.loads(npz_data['test_data'])\n",
    "        \n",
    "        # Append data from this file to the overall dictionary\n",
    "        for key in all_train_data.keys():\n",
    "            all_train_data[key].append(train_data[key])\n",
    "            all_test_data[key].append(test_data[key])\n",
    "        \n",
    "        all_train_labels.append(npz_data['train_label'])\n",
    "        all_test_labels.append(npz_data['test_label'])\n",
    "        \n",
    "    # Combine train and test data across all files\n",
    "    train_data = {key: np.concatenate(all_train_data[key], axis=0) for key in all_train_data.keys()}\n",
    "    test_data = {key: np.concatenate(all_test_data[key], axis=0) for key in all_test_data.keys()}\n",
    "    train_labels = np.concatenate(all_train_labels, axis=0)\n",
    "    test_labels = np.concatenate(all_test_labels, axis=0)\n",
    "    \n",
    "    # Combine features from all bands into a single feature vector\n",
    "    trainX = np.hstack([train_data[key] for key in train_data.keys()])\n",
    "    testX = np.hstack([test_data[key] for key in test_data.keys()])\n",
    "    \n",
    "    # Debug information\n",
    "    # print(\"Combined Train Data Shape:\", trainX.shape)\n",
    "    # print(\"Combined Test Data Shape:\", testX.shape)\n",
    "    # print(\"Combined Train Labels Shape:\", train_labels.shape)\n",
    "    # print(\"Combined Test Labels Shape:\", test_labels.shape)\n",
    "    \n",
    "    return trainX, testX, train_labels, test_labels"
   ]
  },
  {
   "cell_type": "markdown",
   "metadata": {},
   "source": [
    "# Decision Tree"
   ]
  },
  {
   "cell_type": "code",
   "execution_count": 16,
   "metadata": {},
   "outputs": [
    {
     "name": "stderr",
     "output_type": "stream",
     "text": [
      "Loading data: 100%|██████████| 36/36 [00:00<00:00, 52.75it/s]\n"
     ]
    },
    {
     "name": "stdout",
     "output_type": "stream",
     "text": [
      "----------------Decision Tree----------------\n",
      "mean_accuracy:  0.6069163455362877\n",
      "confusion matrix\n",
      " [[ 6716  5610  3478]\n",
      " [ 4759  9865  2296]\n",
      " [ 2141  1301 13658]]\n",
      "              precision    recall  f1-score   support\n",
      "\n",
      "         0.0       0.49      0.42      0.46     15804\n",
      "         1.0       0.59      0.58      0.59     16920\n",
      "         2.0       0.70      0.80      0.75     17100\n",
      "\n",
      "    accuracy                           0.61     49824\n",
      "   macro avg       0.59      0.60      0.60     49824\n",
      "weighted avg       0.60      0.61      0.60     49824\n",
      "\n"
     ]
    }
   ],
   "source": [
    "from sklearn.model_selection import train_test_split\n",
    "X_train, X_test, y_train, y_test = get_data()\n",
    "\n",
    "#import DecisionTreeClassifier and start the training\n",
    "from sklearn.tree import DecisionTreeClassifier\n",
    "estimator = DecisionTreeClassifier(random_state=0)\n",
    "estimator.fit(X_train, y_train)\n",
    "\n",
    "#apply the trained estimator on the test dataset\n",
    "mean_accuracy=estimator.score(X_test, y_test)\n",
    "y_pred = estimator.predict(X_test)\n",
    "print('----------------Decision Tree----------------')\n",
    "print('mean_accuracy: ', mean_accuracy)\n",
    "# import relevant metrics and print the confusion matrix and classification report\n",
    "from sklearn.metrics import classification_report, confusion_matrix\n",
    "print('confusion matrix:\\n', confusion_matrix(y_test,y_pred))\n",
    "print(classification_report(y_test,y_pred))"
   ]
  },
  {
   "cell_type": "markdown",
   "metadata": {},
   "source": [
    "# Gaussian Naive Bayes"
   ]
  },
  {
   "cell_type": "code",
   "execution_count": 10,
   "metadata": {},
   "outputs": [
    {
     "name": "stdout",
     "output_type": "stream",
     "text": [
      "----------------Gaussian Naive Bayes----------------\n",
      "[[4173 6570 5061]\n",
      " [1978 9552 5390]\n",
      " [3678 4490 8932]]\n",
      "              precision    recall  f1-score   support\n",
      "\n",
      "         0.0       0.42      0.26      0.33     15804\n",
      "         1.0       0.46      0.56      0.51     16920\n",
      "         2.0       0.46      0.52      0.49     17100\n",
      "\n",
      "    accuracy                           0.45     49824\n",
      "   macro avg       0.45      0.45      0.44     49824\n",
      "weighted avg       0.45      0.45      0.44     49824\n",
      "\n"
     ]
    }
   ],
   "source": [
    "\n",
    "#import GaussianNB and perform Gaussian Naive Bayes on the training dataset\n",
    "from sklearn.naive_bayes import GaussianNB\n",
    "estimator = GaussianNB()\n",
    "estimator.fit(X_train, y_train)\n",
    "\n",
    "#apply the trained estimator on the test dataset\n",
    "estimator.score(X_test, y_test)\n",
    "y_pred = estimator.predict(X_test)\n",
    "\n",
    "print('----------------Gaussian Naive Bayes----------------')\n",
    "print('mean_accuracy: ', mean_accuracy)\n",
    "from sklearn.metrics import classification_report, confusion_matrix\n",
    "print('confusion matrix:\\n', confusion_matrix(y_test,y_pred))\n",
    "print(classification_report(y_test,y_pred))"
   ]
  },
  {
   "cell_type": "markdown",
   "metadata": {},
   "source": [
    "# KNN"
   ]
  },
  {
   "cell_type": "code",
   "execution_count": 11,
   "metadata": {},
   "outputs": [
    {
     "name": "stdout",
     "output_type": "stream",
     "text": [
      "----------------KNN----------------\n",
      "mean_accuracy:  0.6903299614643545\n"
     ]
    }
   ],
   "source": [
    "#import KNeighborsClassifier and KNN on the training dataset\n",
    "from sklearn.neighbors import KNeighborsClassifier\n",
    "estimator = KNeighborsClassifier(n_neighbors=3)\n",
    "estimator.fit(X_train, y_train)\n",
    "\n",
    "print('----------------KNN----------------')\n",
    "#apply the trained estimator on the test dataset\n",
    "mean_accuracy=estimator.score(X_test, y_test)\n",
    "y_pred = estimator.predict(X_test)\n",
    "print('mean_accuracy: ', mean_accuracy)\n",
    "print('confusion matrix:\\n', confusion_matrix(y_test,y_pred))\n",
    "print(classification_report(y_test,y_pred))"
   ]
  },
  {
   "cell_type": "markdown",
   "metadata": {},
   "source": [
    "# Random Forest"
   ]
  },
  {
   "cell_type": "code",
   "execution_count": 12,
   "metadata": {},
   "outputs": [
    {
     "name": "stdout",
     "output_type": "stream",
     "text": [
      "----------------Random Forest----------------\n",
      "mean_accuracy:  0.5798410404624278\n",
      "[[ 6913  4242  4649]\n",
      " [ 4916  8299  3705]\n",
      " [ 1831  1591 13678]]\n",
      "              precision    recall  f1-score   support\n",
      "\n",
      "         0.0       0.51      0.44      0.47     15804\n",
      "         1.0       0.59      0.49      0.53     16920\n",
      "         2.0       0.62      0.80      0.70     17100\n",
      "\n",
      "    accuracy                           0.58     49824\n",
      "   macro avg       0.57      0.58      0.57     49824\n",
      "weighted avg       0.57      0.58      0.57     49824\n",
      "\n"
     ]
    }
   ],
   "source": [
    "#import RandomForestClassifier and RFC on the training dataset\n",
    "from sklearn.ensemble import RandomForestClassifier\n",
    "estimator = RandomForestClassifier(n_estimators=100, max_depth=2, random_state=0)\n",
    "estimator.fit(X_train, y_train)\n",
    "\n",
    "print('----------------Random Forest----------------')\n",
    "#apply the trained estimator on the test dataset\n",
    "mean_accuracy=estimator.score(X_test, y_test)\n",
    "y_pred = estimator.predict(X_test)\n",
    "print('mean_accuracy: ', mean_accuracy)\n",
    "# print(estimator.feature_importances_)\n",
    "print('confusion matrix:\\n', confusion_matrix(y_test,y_pred))\n",
    "print(confusion_matrix(y_test,y_pred))\n",
    "print(classification_report(y_test,y_pred))"
   ]
  },
  {
   "cell_type": "markdown",
   "metadata": {},
   "source": [
    "# SVM\n"
   ]
  },
  {
   "cell_type": "markdown",
   "metadata": {},
   "source": [
    "## Linear SVM"
   ]
  },
  {
   "cell_type": "code",
   "execution_count": 17,
   "metadata": {},
   "outputs": [
    {
     "name": "stdout",
     "output_type": "stream",
     "text": [
      "----------------Linear SVM----------------\n",
      "mean_accuracy:  0.6069163455362877\n",
      "confusion matrix:\n",
      " [[ 8761  5591  1452]\n",
      " [ 2827 13123   970]\n",
      " [ 1615  1200 14285]]\n",
      "              precision    recall  f1-score   support\n",
      "\n",
      "         0.0       0.66      0.55      0.60     15804\n",
      "         1.0       0.66      0.78      0.71     16920\n",
      "         2.0       0.86      0.84      0.85     17100\n",
      "\n",
      "    accuracy                           0.73     49824\n",
      "   macro avg       0.73      0.72      0.72     49824\n",
      "weighted avg       0.73      0.73      0.72     49824\n",
      "\n"
     ]
    }
   ],
   "source": [
    "#import SVC and perform linear SVM on the training dataset\n",
    "from sklearn.svm import SVC\n",
    "svclassifier = SVC(kernel='linear')\n",
    "svclassifier.fit(X_train, y_train)\n",
    "\n",
    "#apply the trained SVM on the test dataset\n",
    "y_pred = svclassifier.predict(X_test)\n",
    "# import relevant metrics and print the confusion matrix and classification report\n",
    "print('----------------Linear SVM----------------')\n",
    "print('mean_accuracy: ', mean_accuracy)\n",
    "print('confusion matrix:\\n', confusion_matrix(y_test,y_pred))\n",
    "print(classification_report(y_test,y_pred))"
   ]
  },
  {
   "cell_type": "markdown",
   "metadata": {},
   "source": [
    "## Polynomial SVM"
   ]
  },
  {
   "cell_type": "code",
   "execution_count": 18,
   "metadata": {},
   "outputs": [
    {
     "name": "stdout",
     "output_type": "stream",
     "text": [
      "----------------Polynomial SVM----------------\n",
      "mean_accuracy:  0.6069163455362877\n",
      "confusion matrix:\n",
      " [[ 9022  5290  1492]\n",
      " [ 2554 13396   970]\n",
      " [ 1897   801 14402]]\n",
      "              precision    recall  f1-score   support\n",
      "\n",
      "         0.0       0.67      0.57      0.62     15804\n",
      "         1.0       0.69      0.79      0.74     16920\n",
      "         2.0       0.85      0.84      0.85     17100\n",
      "\n",
      "    accuracy                           0.74     49824\n",
      "   macro avg       0.74      0.73      0.73     49824\n",
      "weighted avg       0.74      0.74      0.74     49824\n",
      "\n"
     ]
    }
   ],
   "source": [
    "#import SVC and perform Polynomial SVM on the training dataset\n",
    "from sklearn.svm import SVC\n",
    "svclassifier = SVC(kernel='poly', C=1, gamma=0.1, degree=3)\n",
    "svclassifier.fit(X_train, y_train)\n",
    "\n",
    "#apply the trained SVM on the test dataset\n",
    "y_pred = svclassifier.predict(X_test)\n",
    "print('----------------Polynomial SVM----------------')\n",
    "print('mean_accuracy: ', mean_accuracy)\n",
    "print('confusion matrix:\\n', confusion_matrix(y_test,y_pred))\n",
    "print(classification_report(y_test,y_pred))"
   ]
  },
  {
   "cell_type": "markdown",
   "metadata": {},
   "source": [
    "## RBF SVM"
   ]
  },
  {
   "cell_type": "code",
   "execution_count": 19,
   "metadata": {},
   "outputs": [],
   "source": [
    "svclassifier = SVC(kernel='rbf', C=1, gamma=0.1)\n",
    "svclassifier.fit(X_train, y_train)\n",
    "y_pred = svclassifier.predict(X_test)\n",
    "print('----------------RBF SVM----------------')\n",
    "print('mean_accuracy: ', mean_accuracy)\n",
    "print('confusion matrix:\\n', confusion_matrix(y_test,y_pred))\n",
    "print(classification_report(y_test,y_pred))"
   ]
  },
  {
   "cell_type": "markdown",
   "metadata": {},
   "source": [
    "## Sigmoid SVM"
   ]
  },
  {
   "cell_type": "code",
   "execution_count": null,
   "metadata": {},
   "outputs": [],
   "source": [
    "svclassifier = SVC(kernel='sigmoid', C=1, gamma=0.1)\n",
    "svclassifier.fit(X_train, y_train)\n",
    "y_pred = svclassifier.predict(X_test)\n",
    "print('----------------Sigmoid SVM----------------')\n",
    "print('mean_accuracy: ', mean_accuracy)\n",
    "print('confusion matrix:\\n', confusion_matrix(y_test,y_pred))\n",
    "print(classification_report(y_test,y_pred))"
   ]
  }
 ],
 "metadata": {
  "kernelspec": {
   "display_name": "Python 3",
   "language": "python",
   "name": "python3"
  },
  "language_info": {
   "codemirror_mode": {
    "name": "ipython",
    "version": 3
   },
   "file_extension": ".py",
   "mimetype": "text/x-python",
   "name": "python",
   "nbconvert_exporter": "python",
   "pygments_lexer": "ipython3",
   "version": "3.9.4"
  }
 },
 "nbformat": 4,
 "nbformat_minor": 2
}
