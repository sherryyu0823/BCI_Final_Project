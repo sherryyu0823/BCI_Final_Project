{
 "cells": [
  {
   "cell_type": "code",
   "execution_count": 29,
   "id": "b6a21dba",
   "metadata": {
    "_cell_guid": "b1076dfc-b9ad-4769-8c92-a6c4dae69d19",
    "_uuid": "8f2839f25d086af736a60e9eeb907d3b93b6e0e5",
    "execution": {
     "iopub.execute_input": "2023-12-05T09:29:53.619937Z",
     "iopub.status.busy": "2023-12-05T09:29:53.619478Z",
     "iopub.status.idle": "2023-12-05T09:29:57.185435Z",
     "shell.execute_reply": "2023-12-05T09:29:57.184615Z"
    },
    "papermill": {
     "duration": 3.582823,
     "end_time": "2023-12-05T09:29:57.187659",
     "exception": false,
     "start_time": "2023-12-05T09:29:53.604836",
     "status": "completed"
    },
    "tags": []
   },
   "outputs": [],
   "source": [
    "import pandas as pd\n",
    "import numpy as np\n",
    "import seaborn as sns\n",
    "import matplotlib.pyplot as plt\n",
    "%matplotlib inline\n",
    "import warnings\n",
    "warnings.filterwarnings(\"ignore\")\n",
    "import pandas as pd\n",
    "from sklearn.model_selection import train_test_split\n",
    "from sklearn.preprocessing import StandardScaler, LabelEncoder\n",
    "%matplotlib inline\n",
    "import seaborn as sns\n",
    "sns.set()\n",
    "from tqdm import tqdm\n",
    "import pickle\n",
    "import os"
   ]
  },
  {
   "cell_type": "markdown",
   "id": "92445e2e",
   "metadata": {
    "papermill": {
     "duration": 0.098308,
     "end_time": "2023-12-05T09:34:30.357228",
     "exception": false,
     "start_time": "2023-12-05T09:34:30.258920",
     "status": "completed"
    },
    "tags": []
   },
   "source": [
    "## **Different Classification Model**"
   ]
  },
  {
   "cell_type": "markdown",
   "id": "7b1e71f8",
   "metadata": {},
   "source": [
    "### **Data Processing**"
   ]
  },
  {
   "cell_type": "code",
   "execution_count": 30,
   "id": "b0188911",
   "metadata": {},
   "outputs": [],
   "source": [
    "# Import the dataset\n",
    "def get_data():\n",
    "    \"\"\"\n",
    "    Load SEED data from .npz file.\n",
    "    \n",
    "    :return: train data, test data, train labels, test labels.\n",
    "    \"\"\"\n",
    "    feature_1s_dir = './EEG-DE-feature/eeg_used_1s'\n",
    "    file_1s_list = os.listdir(feature_1s_dir)\n",
    "    file_1s_list.sort()\n",
    "    \n",
    "    all_train_data = {key: [] for key in ['delta', 'theta', 'alpha', 'beta', 'gamma']}\n",
    "    all_test_data = {key: [] for key in ['delta', 'theta', 'alpha', 'beta', 'gamma']}\n",
    "    all_train_labels = []\n",
    "    all_test_labels = []\n",
    "    \n",
    "    for item in tqdm(file_1s_list, desc=\"Loading data\"):\n",
    "        npz_data = np.load(os.path.join(feature_1s_dir, item))\n",
    "        \n",
    "        # Extract train and test data\n",
    "        train_data = pickle.loads(npz_data['train_data'])\n",
    "        test_data = pickle.loads(npz_data['test_data'])\n",
    "        \n",
    "        # Append data from this file to the overall dictionary\n",
    "        for key in all_train_data.keys():\n",
    "            all_train_data[key].append(train_data[key])\n",
    "            all_test_data[key].append(test_data[key])\n",
    "        \n",
    "        all_train_labels.append(npz_data['train_label'])\n",
    "        all_test_labels.append(npz_data['test_label'])\n",
    "        \n",
    "    # Combine train and test data across all files\n",
    "    train_data = {key: np.concatenate(all_train_data[key], axis=0) for key in all_train_data.keys()}\n",
    "    test_data = {key: np.concatenate(all_test_data[key], axis=0) for key in all_test_data.keys()}\n",
    "    train_labels = np.concatenate(all_train_labels, axis=0)\n",
    "    test_labels = np.concatenate(all_test_labels, axis=0)\n",
    "    \n",
    "    # Combine features from all bands into a single feature vector\n",
    "    trainX = np.hstack([train_data[key] for key in train_data.keys()])\n",
    "    testX = np.hstack([test_data[key] for key in test_data.keys()])\n",
    "    \n",
    "    # Debug information\n",
    "    # print(\"Combined Train Data Shape:\", trainX.shape)\n",
    "    # print(\"Combined Test Data Shape:\", testX.shape)\n",
    "    # print(\"Combined Train Labels Shape:\", train_labels.shape)\n",
    "    # print(\"Combined Test Labels Shape:\", test_labels.shape)\n",
    "    \n",
    "    return trainX, testX, train_labels, test_labels"
   ]
  },
  {
   "cell_type": "code",
   "execution_count": 31,
   "id": "c65d7523",
   "metadata": {},
   "outputs": [
    {
     "name": "stderr",
     "output_type": "stream",
     "text": [
      "Loading data:   0%|          | 0/36 [00:00<?, ?it/s]"
     ]
    },
    {
     "name": "stderr",
     "output_type": "stream",
     "text": [
      "Loading data: 100%|██████████| 36/36 [00:02<00:00, 15.22it/s]\n"
     ]
    }
   ],
   "source": [
    "\n",
    "# Splitting the dataset into training and testing sets\n",
    "X_train, X_test, y_train, y_test = get_data()\n"
   ]
  },
  {
   "cell_type": "code",
   "execution_count": 32,
   "id": "414dd151",
   "metadata": {
    "execution": {
     "iopub.execute_input": "2023-12-05T09:34:32.683872Z",
     "iopub.status.busy": "2023-12-05T09:34:32.683431Z",
     "iopub.status.idle": "2023-12-05T09:41:06.250336Z",
     "shell.execute_reply": "2023-12-05T09:41:06.249296Z"
    },
    "papermill": {
     "duration": 393.673593,
     "end_time": "2023-12-05T09:41:06.253010",
     "exception": false,
     "start_time": "2023-12-05T09:34:32.579417",
     "status": "completed"
    },
    "tags": []
   },
   "outputs": [],
   "source": [
    "import matplotlib.pyplot as plt\n",
    "from sklearn.metrics import accuracy_score\n",
    "from sklearn.linear_model import LogisticRegression\n",
    "from sklearn.tree import DecisionTreeClassifier\n",
    "from sklearn.ensemble import RandomForestClassifier, GradientBoostingClassifier, AdaBoostClassifier\n",
    "from sklearn.svm import SVC\n",
    "from sklearn.neighbors import KNeighborsClassifier\n",
    "from sklearn.naive_bayes import GaussianNB\n",
    "\n",
    "# Initialize models\n",
    "models = {\n",
    "    \"Decision Tree\": DecisionTreeClassifier(),\n",
    "    \"Random Forest\": RandomForestClassifier(),\n",
    "    \"Support Vector Machine\": SVC(kernel='linear'),\n",
    "    \"KNN\": KNeighborsClassifier(),\n",
    "    \"Gaussian Naive Bayes\": GaussianNB(),\n",
    "}\n",
    "\n",
    "# Train and evaluate models\n",
    "scores = {}\n",
    "for model_name, model in models.items():\n",
    "    model.fit(X_train, y_train)\n",
    "    y_pred = model.predict(X_test)\n",
    "    scores[model_name] = accuracy_score(y_test, y_pred)"
   ]
  },
  {
   "cell_type": "code",
   "execution_count": 33,
   "id": "4991bf51",
   "metadata": {
    "execution": {
     "iopub.execute_input": "2023-12-05T09:41:06.453373Z",
     "iopub.status.busy": "2023-12-05T09:41:06.452854Z",
     "iopub.status.idle": "2023-12-05T09:41:06.458087Z",
     "shell.execute_reply": "2023-12-05T09:41:06.457198Z"
    },
    "papermill": {
     "duration": 0.106491,
     "end_time": "2023-12-05T09:41:06.460165",
     "exception": false,
     "start_time": "2023-12-05T09:41:06.353674",
     "status": "completed"
    },
    "tags": []
   },
   "outputs": [
    {
     "name": "stdout",
     "output_type": "stream",
     "text": [
      "{'Decision Tree': 0.6043874438021837, 'Random Forest': 0.7619018946692357, 'Support Vector Machine': 0.7259352922286448, 'KNN': 0.6900489723827874, 'Gaussian Naive Bayes': 0.4547406872190109}\n"
     ]
    }
   ],
   "source": [
    "print(scores)"
   ]
  },
  {
   "cell_type": "code",
   "execution_count": 34,
   "id": "b81017d7",
   "metadata": {},
   "outputs": [
    {
     "name": "stdout",
     "output_type": "stream",
     "text": [
      "Using device: cuda\n",
      "Training CNN\n"
     ]
    },
    {
     "name": "stderr",
     "output_type": "stream",
     "text": [
      "                                                                                \r"
     ]
    },
    {
     "name": "stdout",
     "output_type": "stream",
     "text": [
      "Training RNN\n"
     ]
    },
    {
     "name": "stderr",
     "output_type": "stream",
     "text": [
      "                                                                            \r"
     ]
    },
    {
     "name": "stdout",
     "output_type": "stream",
     "text": [
      "Training LSTM\n"
     ]
    },
    {
     "name": "stderr",
     "output_type": "stream",
     "text": [
      "                                                                            \r"
     ]
    },
    {
     "name": "stdout",
     "output_type": "stream",
     "text": [
      "{'Decision Tree': 0.6043874438021837, 'Random Forest': 0.7619018946692357, 'Support Vector Machine': 0.7259352922286448, 'KNN': 0.6900489723827874, 'Gaussian Naive Bayes': 0.4547406872190109, 'CNN': 0.7187299132347107, 'RNN': 0.3171965479850769, 'LSTM': 0.34320810437202454}\n"
     ]
    }
   ],
   "source": [
    "import torch\n",
    "import torch.nn as nn\n",
    "import torch.optim as optim\n",
    "from torch.utils.data import DataLoader, TensorDataset\n",
    "import numpy as np\n",
    "import torch.nn.functional as F\n",
    "from tqdm import tqdm  # Import tqdm for progress bars\n",
    "\n",
    "# Check if GPU is available\n",
    "device = torch.device(\"cuda\" if torch.cuda.is_available() else \"cpu\")\n",
    "print(f\"Using device: {device}\")\n",
    "\n",
    "# Assuming X_train, X_test, y_train, y_test are already loaded and preprocessed\n",
    "# Convert data to PyTorch tensors and move them to the device\n",
    "X_train = torch.tensor(X_train, dtype=torch.float32).to(device)\n",
    "X_test = torch.tensor(X_test, dtype=torch.float32).to(device)\n",
    "y_train = torch.tensor(y_train, dtype=torch.long).to(device)\n",
    "y_test = torch.tensor(y_test, dtype=torch.long).to(device)\n",
    "\n",
    "# Define function to create DataLoader\n",
    "def create_dataloader(X, y, batch_size=32):\n",
    "    dataset = TensorDataset(X, y)\n",
    "    dataloader = DataLoader(dataset, batch_size=batch_size, shuffle=True)\n",
    "    return dataloader\n",
    "\n",
    "train_loader = create_dataloader(X_train, y_train)\n",
    "test_loader = create_dataloader(X_test, y_test, batch_size=len(X_test))  # Using full batch for evaluation\n",
    "\n",
    "# Define CNN model\n",
    "class CNNModel(nn.Module):\n",
    "    def __init__(self, input_dim, output_dim):\n",
    "        super(CNNModel, self).__init__()\n",
    "        self.conv1 = nn.Conv1d(1, 64, kernel_size=3, padding=1)\n",
    "        self.pool = nn.MaxPool1d(kernel_size=2, stride=2)\n",
    "        self.flatten = nn.Flatten()\n",
    "        self.fc1 = nn.Linear(input_dim // 2 * 64, 100)\n",
    "        self.fc2 = nn.Linear(100, output_dim)\n",
    "\n",
    "    def forward(self, x):\n",
    "        x = self.pool(F.relu(self.conv1(x.unsqueeze(1))))\n",
    "        x = self.flatten(x)\n",
    "        x = F.relu(self.fc1(x))\n",
    "        x = self.fc2(x)\n",
    "        return x\n",
    "\n",
    "# Define RNN model\n",
    "class RNNModel(nn.Module):\n",
    "    def __init__(self, input_dim, output_dim):\n",
    "        super(RNNModel, self).__init__()\n",
    "        self.rnn = nn.RNN(input_dim, 50, num_layers=2, batch_first=True)\n",
    "        self.fc = nn.Linear(50, output_dim)\n",
    "\n",
    "    def forward(self, x):\n",
    "        x, _ = self.rnn(x)\n",
    "        x = self.fc(x[:, -1, :])\n",
    "        return x\n",
    "\n",
    "# Define LSTM model\n",
    "class LSTMModel(nn.Module):\n",
    "    def __init__(self, input_dim, output_dim):\n",
    "        super(LSTMModel, self).__init__()\n",
    "        self.lstm = nn.LSTM(input_dim, 50, num_layers=2, batch_first=True)\n",
    "        self.fc = nn.Linear(50, output_dim)\n",
    "\n",
    "    def forward(self, x):\n",
    "        x, _ = self.lstm(x)\n",
    "        x = self.fc(x[:, -1, :])\n",
    "        return x\n",
    "\n",
    "# Training and evaluation function\n",
    "def train_evaluate_dl_model(model, train_loader, test_loader, epochs=10, batch_size=32, lr=0.001):\n",
    "    criterion = nn.CrossEntropyLoss()\n",
    "    optimizer = optim.Adam(model.parameters(), lr=lr)\n",
    "    model.to(device)  # Move model to device (GPU or CPU)\n",
    "    model.train()\n",
    "    \n",
    "    for epoch in range(epochs):\n",
    "        progress_bar = tqdm(train_loader, desc=f'Epoch {epoch+1}/{epochs}', leave=False)\n",
    "        for X_batch, y_batch in progress_bar:\n",
    "            X_batch, y_batch = X_batch.to(device), y_batch.to(device)  # Move batch to device\n",
    "            optimizer.zero_grad()\n",
    "            outputs = model(X_batch)\n",
    "            loss = criterion(outputs, y_batch)\n",
    "            loss.backward()\n",
    "            optimizer.step()\n",
    "            progress_bar.set_postfix(loss=loss.item())\n",
    "\n",
    "    model.eval()\n",
    "    with torch.no_grad():\n",
    "        for X_batch, y_batch in test_loader:\n",
    "            X_batch, y_batch = X_batch.to(device), y_batch.to(device)  # Move batch to device\n",
    "            outputs = model(X_batch)\n",
    "            _, predicted = torch.max(outputs, 1)\n",
    "            accuracy = (predicted == y_batch).float().mean().item()\n",
    "    \n",
    "    return accuracy\n",
    "\n",
    "input_dim = X_train.shape[1]\n",
    "output_dim = len(set(y_train.cpu().numpy()))\n",
    "\n",
    "# Reshape X_train and X_test for RNN and LSTM models\n",
    "X_train_rnn_lstm = X_train.view(X_train.shape[0], -1, input_dim)\n",
    "X_test_rnn_lstm = X_test.view(X_test.shape[0], -1, input_dim)\n",
    "\n",
    "# scores = {}\n",
    "\n",
    "# Train and evaluate CNN\n",
    "cnn_model = CNNModel(input_dim, output_dim)\n",
    "print('Training CNN')\n",
    "scores['CNN'] = train_evaluate_dl_model(cnn_model, train_loader, test_loader)\n",
    "\n",
    "# Train and evaluate RNN\n",
    "rnn_model = RNNModel(input_dim, output_dim)\n",
    "print('Training RNN')\n",
    "scores['RNN'] = train_evaluate_dl_model(rnn_model, DataLoader(TensorDataset(X_train_rnn_lstm, y_train), batch_size=32, shuffle=True), DataLoader(TensorDataset(X_test_rnn_lstm, y_test), batch_size=len(X_test), shuffle=False))\n",
    "\n",
    "# Train and evaluate LSTM\n",
    "lstm_model = LSTMModel(input_dim, output_dim)\n",
    "print('Training LSTM')\n",
    "scores['LSTM'] = train_evaluate_dl_model(lstm_model, DataLoader(TensorDataset(X_train_rnn_lstm, y_train), batch_size=32, shuffle=True), DataLoader(TensorDataset(X_test_rnn_lstm, y_test), batch_size=len(X_test), shuffle=False))\n",
    "\n",
    "print(scores)\n"
   ]
  },
  {
   "cell_type": "code",
   "execution_count": 35,
   "id": "64a3be92",
   "metadata": {
    "execution": {
     "iopub.execute_input": "2023-12-05T10:15:45.561905Z",
     "iopub.status.busy": "2023-12-05T10:15:45.561510Z",
     "iopub.status.idle": "2023-12-05T10:15:45.912706Z",
     "shell.execute_reply": "2023-12-05T10:15:45.911686Z"
    },
    "papermill": {
     "duration": 0.457141,
     "end_time": "2023-12-05T10:15:45.915403",
     "exception": false,
     "start_time": "2023-12-05T10:15:45.458262",
     "status": "completed"
    },
    "tags": []
   },
   "outputs": [
    {
     "data": {
      "image/png": "[encoded data removed]",
      "text/plain": [
       "<Figure size 720x432 with 1 Axes>"
      ]
     },
     "metadata": {},
     "output_type": "display_data"
    }
   ],
   "source": [
    "# Plotting\n",
    "plt.figure(figsize=(10, 6))\n",
    "plt.bar(scores.keys(), scores.values(), color='skyblue')\n",
    "plt.ylabel('Accuracy')\n",
    "plt.title('Model Comparison')\n",
    "plt.xticks(rotation=45)\n",
    "plt.show()"
   ]
  },
  {
   "cell_type": "code",
   "execution_count": 36,
   "id": "a643bf8b",
   "metadata": {
    "execution": {
     "iopub.execute_input": "2023-12-05T10:15:46.123380Z",
     "iopub.status.busy": "2023-12-05T10:15:46.123000Z",
     "iopub.status.idle": "2023-12-05T10:15:46.127941Z",
     "shell.execute_reply": "2023-12-05T10:15:46.127069Z"
    },
    "papermill": {
     "duration": 0.107526,
     "end_time": "2023-12-05T10:15:46.129956",
     "exception": false,
     "start_time": "2023-12-05T10:15:46.022430",
     "status": "completed"
    },
    "tags": []
   },
   "outputs": [
    {
     "name": "stdout",
     "output_type": "stream",
     "text": [
      "{'Decision Tree': 0.6043874438021837, 'Random Forest': 0.7619018946692357, 'Support Vector Machine': 0.7259352922286448, 'KNN': 0.6900489723827874, 'Gaussian Naive Bayes': 0.4547406872190109, 'CNN': 0.7187299132347107, 'RNN': 0.3171965479850769, 'LSTM': 0.34320810437202454}\n"
     ]
    }
   ],
   "source": [
    "print(scores)"
   ]
  }
 ],
 "metadata": {
  "kaggle": {
   "accelerator": "gpu",
   "dataSources": [
    {
     "datasetId": 93959,
     "sourceId": 218459,
     "sourceType": "datasetVersion"
    }
   ],
   "dockerImageVersionId": 30588,
   "isGpuEnabled": true,
   "isInternetEnabled": true,
   "language": "python",
   "sourceType": "notebook"
  },
  "kernelspec": {
   "display_name": "Python 3",
   "language": "python",
   "name": "python3"
  },
  "language_info": {
   "codemirror_mode": {
    "name": "ipython",
    "version": 3
   },
   "file_extension": ".py",
   "mimetype": "text/x-python",
   "name": "python",
   "nbconvert_exporter": "python",
   "pygments_lexer": "ipython3",
   "version": "3.9.4"
  },
  "papermill": {
   "default_parameters": {},
   "duration": 2759.830069,
   "end_time": "2023-12-05T10:15:50.004494",
   "environment_variables": {},
   "exception": null,
   "input_path": "__notebook__.ipynb",
   "output_path": "__notebook__.ipynb",
   "parameters": {},
   "start_time": "2023-12-05T09:29:50.174425",
   "version": "2.4.0"
  }
 },
 "nbformat": 4,
 "nbformat_minor": 5
}
